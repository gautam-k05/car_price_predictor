{
 "cells": [
  {
   "cell_type": "code",
   "execution_count": 1,
   "id": "fbf136d4-2991-47ab-a2cf-48a639664181",
   "metadata": {},
   "outputs": [],
   "source": [
    "import pandas as pd \n",
    "import numpy as np \n",
    "import seaborn as sns\n",
    "import matplotlib.pyplot as plt\n",
    "from sklearn.model_selection import train_test_split\n",
    "from sklearn.linear_model import LinearRegression"
   ]
  },
  {
   "cell_type": "code",
   "execution_count": 2,
   "id": "990bfe6c-118e-47be-81ed-9e996119a574",
   "metadata": {},
   "outputs": [
    {
     "data": {
      "text/html": [
       "<div>\n",
       "<style scoped>\n",
       "    .dataframe tbody tr th:only-of-type {\n",
       "        vertical-align: middle;\n",
       "    }\n",
       "\n",
       "    .dataframe tbody tr th {\n",
       "        vertical-align: top;\n",
       "    }\n",
       "\n",
       "    .dataframe thead th {\n",
       "        text-align: right;\n",
       "    }\n",
       "</style>\n",
       "<table border=\"1\" class=\"dataframe\">\n",
       "  <thead>\n",
       "    <tr style=\"text-align: right;\">\n",
       "      <th></th>\n",
       "      <th>name</th>\n",
       "      <th>year</th>\n",
       "      <th>selling_price</th>\n",
       "      <th>km_driven</th>\n",
       "      <th>fuel</th>\n",
       "      <th>seller_type</th>\n",
       "      <th>transmission</th>\n",
       "      <th>owner</th>\n",
       "      <th>mileage</th>\n",
       "      <th>engine</th>\n",
       "      <th>max_power</th>\n",
       "      <th>torque</th>\n",
       "      <th>seats</th>\n",
       "    </tr>\n",
       "  </thead>\n",
       "  <tbody>\n",
       "    <tr>\n",
       "      <th>0</th>\n",
       "      <td>Maruti Swift Dzire VDI</td>\n",
       "      <td>2014</td>\n",
       "      <td>450000</td>\n",
       "      <td>145500</td>\n",
       "      <td>Diesel</td>\n",
       "      <td>Individual</td>\n",
       "      <td>Manual</td>\n",
       "      <td>First Owner</td>\n",
       "      <td>23.4 kmpl</td>\n",
       "      <td>1248 CC</td>\n",
       "      <td>74 bhp</td>\n",
       "      <td>190Nm@ 2000rpm</td>\n",
       "      <td>5.0</td>\n",
       "    </tr>\n",
       "    <tr>\n",
       "      <th>1</th>\n",
       "      <td>Skoda Rapid 1.5 TDI Ambition</td>\n",
       "      <td>2014</td>\n",
       "      <td>370000</td>\n",
       "      <td>120000</td>\n",
       "      <td>Diesel</td>\n",
       "      <td>Individual</td>\n",
       "      <td>Manual</td>\n",
       "      <td>Second Owner</td>\n",
       "      <td>21.14 kmpl</td>\n",
       "      <td>1498 CC</td>\n",
       "      <td>103.52 bhp</td>\n",
       "      <td>250Nm@ 1500-2500rpm</td>\n",
       "      <td>5.0</td>\n",
       "    </tr>\n",
       "    <tr>\n",
       "      <th>2</th>\n",
       "      <td>Honda City 2017-2020 EXi</td>\n",
       "      <td>2006</td>\n",
       "      <td>158000</td>\n",
       "      <td>140000</td>\n",
       "      <td>Petrol</td>\n",
       "      <td>Individual</td>\n",
       "      <td>Manual</td>\n",
       "      <td>Third Owner</td>\n",
       "      <td>17.7 kmpl</td>\n",
       "      <td>1497 CC</td>\n",
       "      <td>78 bhp</td>\n",
       "      <td>12.7@ 2,700(kgm@ rpm)</td>\n",
       "      <td>5.0</td>\n",
       "    </tr>\n",
       "    <tr>\n",
       "      <th>3</th>\n",
       "      <td>Hyundai i20 Sportz Diesel</td>\n",
       "      <td>2010</td>\n",
       "      <td>225000</td>\n",
       "      <td>127000</td>\n",
       "      <td>Diesel</td>\n",
       "      <td>Individual</td>\n",
       "      <td>Manual</td>\n",
       "      <td>First Owner</td>\n",
       "      <td>23.0 kmpl</td>\n",
       "      <td>1396 CC</td>\n",
       "      <td>90 bhp</td>\n",
       "      <td>22.4 kgm at 1750-2750rpm</td>\n",
       "      <td>5.0</td>\n",
       "    </tr>\n",
       "    <tr>\n",
       "      <th>4</th>\n",
       "      <td>Maruti Swift VXI BSIII</td>\n",
       "      <td>2007</td>\n",
       "      <td>130000</td>\n",
       "      <td>120000</td>\n",
       "      <td>Petrol</td>\n",
       "      <td>Individual</td>\n",
       "      <td>Manual</td>\n",
       "      <td>First Owner</td>\n",
       "      <td>16.1 kmpl</td>\n",
       "      <td>1298 CC</td>\n",
       "      <td>88.2 bhp</td>\n",
       "      <td>11.5@ 4,500(kgm@ rpm)</td>\n",
       "      <td>5.0</td>\n",
       "    </tr>\n",
       "    <tr>\n",
       "      <th>5</th>\n",
       "      <td>Hyundai Xcent 1.2 VTVT E Plus</td>\n",
       "      <td>2017</td>\n",
       "      <td>440000</td>\n",
       "      <td>45000</td>\n",
       "      <td>Petrol</td>\n",
       "      <td>Individual</td>\n",
       "      <td>Manual</td>\n",
       "      <td>First Owner</td>\n",
       "      <td>20.14 kmpl</td>\n",
       "      <td>1197 CC</td>\n",
       "      <td>81.86 bhp</td>\n",
       "      <td>113.75nm@ 4000rpm</td>\n",
       "      <td>5.0</td>\n",
       "    </tr>\n",
       "    <tr>\n",
       "      <th>6</th>\n",
       "      <td>Maruti Wagon R LXI DUO BSIII</td>\n",
       "      <td>2007</td>\n",
       "      <td>96000</td>\n",
       "      <td>175000</td>\n",
       "      <td>LPG</td>\n",
       "      <td>Individual</td>\n",
       "      <td>Manual</td>\n",
       "      <td>First Owner</td>\n",
       "      <td>17.3 km/kg</td>\n",
       "      <td>1061 CC</td>\n",
       "      <td>57.5 bhp</td>\n",
       "      <td>7.8@ 4,500(kgm@ rpm)</td>\n",
       "      <td>5.0</td>\n",
       "    </tr>\n",
       "    <tr>\n",
       "      <th>7</th>\n",
       "      <td>Maruti 800 DX BSII</td>\n",
       "      <td>2001</td>\n",
       "      <td>45000</td>\n",
       "      <td>5000</td>\n",
       "      <td>Petrol</td>\n",
       "      <td>Individual</td>\n",
       "      <td>Manual</td>\n",
       "      <td>Second Owner</td>\n",
       "      <td>16.1 kmpl</td>\n",
       "      <td>796 CC</td>\n",
       "      <td>37 bhp</td>\n",
       "      <td>59Nm@ 2500rpm</td>\n",
       "      <td>4.0</td>\n",
       "    </tr>\n",
       "    <tr>\n",
       "      <th>8</th>\n",
       "      <td>Toyota Etios VXD</td>\n",
       "      <td>2011</td>\n",
       "      <td>350000</td>\n",
       "      <td>90000</td>\n",
       "      <td>Diesel</td>\n",
       "      <td>Individual</td>\n",
       "      <td>Manual</td>\n",
       "      <td>First Owner</td>\n",
       "      <td>23.59 kmpl</td>\n",
       "      <td>1364 CC</td>\n",
       "      <td>67.1 bhp</td>\n",
       "      <td>170Nm@ 1800-2400rpm</td>\n",
       "      <td>5.0</td>\n",
       "    </tr>\n",
       "    <tr>\n",
       "      <th>9</th>\n",
       "      <td>Ford Figo Diesel Celebration Edition</td>\n",
       "      <td>2013</td>\n",
       "      <td>200000</td>\n",
       "      <td>169000</td>\n",
       "      <td>Diesel</td>\n",
       "      <td>Individual</td>\n",
       "      <td>Manual</td>\n",
       "      <td>First Owner</td>\n",
       "      <td>20.0 kmpl</td>\n",
       "      <td>1399 CC</td>\n",
       "      <td>68.1 bhp</td>\n",
       "      <td>160Nm@ 2000rpm</td>\n",
       "      <td>5.0</td>\n",
       "    </tr>\n",
       "  </tbody>\n",
       "</table>\n",
       "</div>"
      ],
      "text/plain": [
       "                                   name  year  selling_price  km_driven  \\\n",
       "0                Maruti Swift Dzire VDI  2014         450000     145500   \n",
       "1          Skoda Rapid 1.5 TDI Ambition  2014         370000     120000   \n",
       "2              Honda City 2017-2020 EXi  2006         158000     140000   \n",
       "3             Hyundai i20 Sportz Diesel  2010         225000     127000   \n",
       "4                Maruti Swift VXI BSIII  2007         130000     120000   \n",
       "5         Hyundai Xcent 1.2 VTVT E Plus  2017         440000      45000   \n",
       "6          Maruti Wagon R LXI DUO BSIII  2007          96000     175000   \n",
       "7                    Maruti 800 DX BSII  2001          45000       5000   \n",
       "8                      Toyota Etios VXD  2011         350000      90000   \n",
       "9  Ford Figo Diesel Celebration Edition  2013         200000     169000   \n",
       "\n",
       "     fuel seller_type transmission         owner     mileage   engine  \\\n",
       "0  Diesel  Individual       Manual   First Owner   23.4 kmpl  1248 CC   \n",
       "1  Diesel  Individual       Manual  Second Owner  21.14 kmpl  1498 CC   \n",
       "2  Petrol  Individual       Manual   Third Owner   17.7 kmpl  1497 CC   \n",
       "3  Diesel  Individual       Manual   First Owner   23.0 kmpl  1396 CC   \n",
       "4  Petrol  Individual       Manual   First Owner   16.1 kmpl  1298 CC   \n",
       "5  Petrol  Individual       Manual   First Owner  20.14 kmpl  1197 CC   \n",
       "6     LPG  Individual       Manual   First Owner  17.3 km/kg  1061 CC   \n",
       "7  Petrol  Individual       Manual  Second Owner   16.1 kmpl   796 CC   \n",
       "8  Diesel  Individual       Manual   First Owner  23.59 kmpl  1364 CC   \n",
       "9  Diesel  Individual       Manual   First Owner   20.0 kmpl  1399 CC   \n",
       "\n",
       "    max_power                    torque  seats  \n",
       "0      74 bhp            190Nm@ 2000rpm    5.0  \n",
       "1  103.52 bhp       250Nm@ 1500-2500rpm    5.0  \n",
       "2      78 bhp     12.7@ 2,700(kgm@ rpm)    5.0  \n",
       "3      90 bhp  22.4 kgm at 1750-2750rpm    5.0  \n",
       "4    88.2 bhp     11.5@ 4,500(kgm@ rpm)    5.0  \n",
       "5   81.86 bhp         113.75nm@ 4000rpm    5.0  \n",
       "6    57.5 bhp      7.8@ 4,500(kgm@ rpm)    5.0  \n",
       "7      37 bhp             59Nm@ 2500rpm    4.0  \n",
       "8    67.1 bhp       170Nm@ 1800-2400rpm    5.0  \n",
       "9    68.1 bhp            160Nm@ 2000rpm    5.0  "
      ]
     },
     "execution_count": 2,
     "metadata": {},
     "output_type": "execute_result"
    }
   ],
   "source": [
    "dataset = pd.read_csv(\"Car_details.csv\")\n",
    "dataset.head(10)"
   ]
  },
  {
   "cell_type": "code",
   "execution_count": 3,
   "id": "fcb4c3e7-3142-4d3e-b8ef-6db84b830a10",
   "metadata": {},
   "outputs": [
    {
     "data": {
      "text/plain": [
       "(8128, 13)"
      ]
     },
     "execution_count": 3,
     "metadata": {},
     "output_type": "execute_result"
    }
   ],
   "source": [
    "dataset.shape"
   ]
  },
  {
   "cell_type": "code",
   "execution_count": 4,
   "id": "2286c9c4-aa28-43a0-976c-804bfd1869f9",
   "metadata": {},
   "outputs": [
    {
     "data": {
      "text/plain": [
       "name               0\n",
       "year               0\n",
       "selling_price      0\n",
       "km_driven          0\n",
       "fuel               0\n",
       "seller_type        0\n",
       "transmission       0\n",
       "owner              0\n",
       "mileage          221\n",
       "engine           221\n",
       "max_power        215\n",
       "torque           222\n",
       "seats            221\n",
       "dtype: int64"
      ]
     },
     "execution_count": 4,
     "metadata": {},
     "output_type": "execute_result"
    }
   ],
   "source": [
    "dataset.isnull().sum()"
   ]
  },
  {
   "cell_type": "code",
   "execution_count": 5,
   "id": "05cbde66-6550-4edd-b3a1-4f18aebaf047",
   "metadata": {},
   "outputs": [
    {
     "data": {
      "text/plain": [
       "name             0.000000\n",
       "year             0.000000\n",
       "selling_price    0.000000\n",
       "km_driven        0.000000\n",
       "fuel             0.000000\n",
       "seller_type      0.000000\n",
       "transmission     0.000000\n",
       "owner            0.000000\n",
       "mileage          2.718996\n",
       "engine           2.718996\n",
       "max_power        2.645177\n",
       "torque           2.731299\n",
       "seats            2.718996\n",
       "dtype: float64"
      ]
     },
     "execution_count": 5,
     "metadata": {},
     "output_type": "execute_result"
    }
   ],
   "source": [
    "(dataset.isnull().sum()/dataset.shape[0]) *100"
   ]
  },
  {
   "cell_type": "code",
   "execution_count": 6,
   "id": "1b325391-e9c7-479d-a747-6a494854373c",
   "metadata": {},
   "outputs": [
    {
     "name": "stdout",
     "output_type": "stream",
     "text": [
      "<class 'pandas.core.frame.DataFrame'>\n",
      "RangeIndex: 8128 entries, 0 to 8127\n",
      "Data columns (total 13 columns):\n",
      " #   Column         Non-Null Count  Dtype  \n",
      "---  ------         --------------  -----  \n",
      " 0   name           8128 non-null   object \n",
      " 1   year           8128 non-null   int64  \n",
      " 2   selling_price  8128 non-null   int64  \n",
      " 3   km_driven      8128 non-null   int64  \n",
      " 4   fuel           8128 non-null   object \n",
      " 5   seller_type    8128 non-null   object \n",
      " 6   transmission   8128 non-null   object \n",
      " 7   owner          8128 non-null   object \n",
      " 8   mileage        7907 non-null   object \n",
      " 9   engine         7907 non-null   object \n",
      " 10  max_power      7913 non-null   object \n",
      " 11  torque         7906 non-null   object \n",
      " 12  seats          7907 non-null   float64\n",
      "dtypes: float64(1), int64(3), object(9)\n",
      "memory usage: 825.6+ KB\n"
     ]
    }
   ],
   "source": [
    "dataset.info()"
   ]
  },
  {
   "cell_type": "code",
   "execution_count": 7,
   "id": "22c4f215-3b84-4dc1-9a82-41a677f0dce6",
   "metadata": {},
   "outputs": [],
   "source": [
    "df2 = dataset.drop(columns=[\"engine\",\t\"max_power\", \"torque\", \"seats\", \"seller_type\"])"
   ]
  },
  {
   "cell_type": "code",
   "execution_count": 8,
   "id": "bb1bb0f2-fc87-4544-8064-5ecb4d710b8a",
   "metadata": {},
   "outputs": [
    {
     "data": {
      "text/html": [
       "<div>\n",
       "<style scoped>\n",
       "    .dataframe tbody tr th:only-of-type {\n",
       "        vertical-align: middle;\n",
       "    }\n",
       "\n",
       "    .dataframe tbody tr th {\n",
       "        vertical-align: top;\n",
       "    }\n",
       "\n",
       "    .dataframe thead th {\n",
       "        text-align: right;\n",
       "    }\n",
       "</style>\n",
       "<table border=\"1\" class=\"dataframe\">\n",
       "  <thead>\n",
       "    <tr style=\"text-align: right;\">\n",
       "      <th></th>\n",
       "      <th>name</th>\n",
       "      <th>year</th>\n",
       "      <th>selling_price</th>\n",
       "      <th>km_driven</th>\n",
       "      <th>fuel</th>\n",
       "      <th>transmission</th>\n",
       "      <th>owner</th>\n",
       "      <th>mileage</th>\n",
       "    </tr>\n",
       "  </thead>\n",
       "  <tbody>\n",
       "    <tr>\n",
       "      <th>0</th>\n",
       "      <td>Maruti Swift Dzire VDI</td>\n",
       "      <td>2014</td>\n",
       "      <td>450000</td>\n",
       "      <td>145500</td>\n",
       "      <td>Diesel</td>\n",
       "      <td>Manual</td>\n",
       "      <td>First Owner</td>\n",
       "      <td>23.4 kmpl</td>\n",
       "    </tr>\n",
       "    <tr>\n",
       "      <th>1</th>\n",
       "      <td>Skoda Rapid 1.5 TDI Ambition</td>\n",
       "      <td>2014</td>\n",
       "      <td>370000</td>\n",
       "      <td>120000</td>\n",
       "      <td>Diesel</td>\n",
       "      <td>Manual</td>\n",
       "      <td>Second Owner</td>\n",
       "      <td>21.14 kmpl</td>\n",
       "    </tr>\n",
       "    <tr>\n",
       "      <th>2</th>\n",
       "      <td>Honda City 2017-2020 EXi</td>\n",
       "      <td>2006</td>\n",
       "      <td>158000</td>\n",
       "      <td>140000</td>\n",
       "      <td>Petrol</td>\n",
       "      <td>Manual</td>\n",
       "      <td>Third Owner</td>\n",
       "      <td>17.7 kmpl</td>\n",
       "    </tr>\n",
       "    <tr>\n",
       "      <th>3</th>\n",
       "      <td>Hyundai i20 Sportz Diesel</td>\n",
       "      <td>2010</td>\n",
       "      <td>225000</td>\n",
       "      <td>127000</td>\n",
       "      <td>Diesel</td>\n",
       "      <td>Manual</td>\n",
       "      <td>First Owner</td>\n",
       "      <td>23.0 kmpl</td>\n",
       "    </tr>\n",
       "    <tr>\n",
       "      <th>4</th>\n",
       "      <td>Maruti Swift VXI BSIII</td>\n",
       "      <td>2007</td>\n",
       "      <td>130000</td>\n",
       "      <td>120000</td>\n",
       "      <td>Petrol</td>\n",
       "      <td>Manual</td>\n",
       "      <td>First Owner</td>\n",
       "      <td>16.1 kmpl</td>\n",
       "    </tr>\n",
       "    <tr>\n",
       "      <th>...</th>\n",
       "      <td>...</td>\n",
       "      <td>...</td>\n",
       "      <td>...</td>\n",
       "      <td>...</td>\n",
       "      <td>...</td>\n",
       "      <td>...</td>\n",
       "      <td>...</td>\n",
       "      <td>...</td>\n",
       "    </tr>\n",
       "    <tr>\n",
       "      <th>8123</th>\n",
       "      <td>Hyundai i20 Magna</td>\n",
       "      <td>2013</td>\n",
       "      <td>320000</td>\n",
       "      <td>110000</td>\n",
       "      <td>Petrol</td>\n",
       "      <td>Manual</td>\n",
       "      <td>First Owner</td>\n",
       "      <td>18.5 kmpl</td>\n",
       "    </tr>\n",
       "    <tr>\n",
       "      <th>8124</th>\n",
       "      <td>Hyundai Verna CRDi SX</td>\n",
       "      <td>2007</td>\n",
       "      <td>135000</td>\n",
       "      <td>119000</td>\n",
       "      <td>Diesel</td>\n",
       "      <td>Manual</td>\n",
       "      <td>Fourth &amp; Above Owner</td>\n",
       "      <td>16.8 kmpl</td>\n",
       "    </tr>\n",
       "    <tr>\n",
       "      <th>8125</th>\n",
       "      <td>Maruti Swift Dzire ZDi</td>\n",
       "      <td>2009</td>\n",
       "      <td>382000</td>\n",
       "      <td>120000</td>\n",
       "      <td>Diesel</td>\n",
       "      <td>Manual</td>\n",
       "      <td>First Owner</td>\n",
       "      <td>19.3 kmpl</td>\n",
       "    </tr>\n",
       "    <tr>\n",
       "      <th>8126</th>\n",
       "      <td>Tata Indigo CR4</td>\n",
       "      <td>2013</td>\n",
       "      <td>290000</td>\n",
       "      <td>25000</td>\n",
       "      <td>Diesel</td>\n",
       "      <td>Manual</td>\n",
       "      <td>First Owner</td>\n",
       "      <td>23.57 kmpl</td>\n",
       "    </tr>\n",
       "    <tr>\n",
       "      <th>8127</th>\n",
       "      <td>Tata Indigo CR4</td>\n",
       "      <td>2013</td>\n",
       "      <td>290000</td>\n",
       "      <td>25000</td>\n",
       "      <td>Diesel</td>\n",
       "      <td>Manual</td>\n",
       "      <td>First Owner</td>\n",
       "      <td>23.57 kmpl</td>\n",
       "    </tr>\n",
       "  </tbody>\n",
       "</table>\n",
       "<p>8128 rows × 8 columns</p>\n",
       "</div>"
      ],
      "text/plain": [
       "                              name  year  selling_price  km_driven    fuel  \\\n",
       "0           Maruti Swift Dzire VDI  2014         450000     145500  Diesel   \n",
       "1     Skoda Rapid 1.5 TDI Ambition  2014         370000     120000  Diesel   \n",
       "2         Honda City 2017-2020 EXi  2006         158000     140000  Petrol   \n",
       "3        Hyundai i20 Sportz Diesel  2010         225000     127000  Diesel   \n",
       "4           Maruti Swift VXI BSIII  2007         130000     120000  Petrol   \n",
       "...                            ...   ...            ...        ...     ...   \n",
       "8123             Hyundai i20 Magna  2013         320000     110000  Petrol   \n",
       "8124         Hyundai Verna CRDi SX  2007         135000     119000  Diesel   \n",
       "8125        Maruti Swift Dzire ZDi  2009         382000     120000  Diesel   \n",
       "8126               Tata Indigo CR4  2013         290000      25000  Diesel   \n",
       "8127               Tata Indigo CR4  2013         290000      25000  Diesel   \n",
       "\n",
       "     transmission                 owner     mileage  \n",
       "0          Manual           First Owner   23.4 kmpl  \n",
       "1          Manual          Second Owner  21.14 kmpl  \n",
       "2          Manual           Third Owner   17.7 kmpl  \n",
       "3          Manual           First Owner   23.0 kmpl  \n",
       "4          Manual           First Owner   16.1 kmpl  \n",
       "...           ...                   ...         ...  \n",
       "8123       Manual           First Owner   18.5 kmpl  \n",
       "8124       Manual  Fourth & Above Owner   16.8 kmpl  \n",
       "8125       Manual           First Owner   19.3 kmpl  \n",
       "8126       Manual           First Owner  23.57 kmpl  \n",
       "8127       Manual           First Owner  23.57 kmpl  \n",
       "\n",
       "[8128 rows x 8 columns]"
      ]
     },
     "execution_count": 8,
     "metadata": {},
     "output_type": "execute_result"
    }
   ],
   "source": [
    "df2"
   ]
  },
  {
   "cell_type": "code",
   "execution_count": 9,
   "id": "1acdba95-dee4-4750-8601-a4012f92627c",
   "metadata": {},
   "outputs": [
    {
     "data": {
      "text/plain": [
       "owner\n",
       "First Owner             5289\n",
       "Second Owner            2105\n",
       "Third Owner              555\n",
       "Fourth & Above Owner     174\n",
       "Test Drive Car             5\n",
       "Name: count, dtype: int64"
      ]
     },
     "execution_count": 9,
     "metadata": {},
     "output_type": "execute_result"
    }
   ],
   "source": [
    "df2['owner'].value_counts()"
   ]
  },
  {
   "cell_type": "code",
   "execution_count": 10,
   "id": "628dbfaa-a015-49c2-afb7-69e63f75f743",
   "metadata": {},
   "outputs": [],
   "source": [
    "df2 = df2[~(df2[\"km_driven\"]/(2021-df2[\"year\"])>60000)]"
   ]
  },
  {
   "cell_type": "code",
   "execution_count": 11,
   "id": "38a312d5-5aac-4bed-988b-8cea2e3e9015",
   "metadata": {},
   "outputs": [
    {
     "name": "stderr",
     "output_type": "stream",
     "text": [
      "C:\\Users\\gkans\\AppData\\Local\\Temp\\ipykernel_18756\\3494939908.py:1: UserWarning: Boolean Series key will be reindexed to match DataFrame index.\n",
      "  df3 = df2[dataset[\"owner\"] != \"Test Drive Car\"]\n"
     ]
    }
   ],
   "source": [
    "df3 = df2[dataset[\"owner\"] != \"Test Drive Car\"]"
   ]
  },
  {
   "cell_type": "code",
   "execution_count": 12,
   "id": "a3be2b8d-d333-487b-bdd2-648cd5782904",
   "metadata": {},
   "outputs": [
    {
     "data": {
      "text/plain": [
       "transmission\n",
       "Manual       7069\n",
       "Automatic    1046\n",
       "Name: count, dtype: int64"
      ]
     },
     "execution_count": 12,
     "metadata": {},
     "output_type": "execute_result"
    }
   ],
   "source": [
    "df3['transmission'].value_counts()"
   ]
  },
  {
   "cell_type": "code",
   "execution_count": 13,
   "id": "43a6294f-7f92-455d-8dbb-353e038d4add",
   "metadata": {},
   "outputs": [
    {
     "data": {
      "text/plain": [
       "2052"
      ]
     },
     "execution_count": 13,
     "metadata": {},
     "output_type": "execute_result"
    }
   ],
   "source": [
    "len(df3[\"name\"].unique())"
   ]
  },
  {
   "cell_type": "code",
   "execution_count": 14,
   "id": "5a0b7c1b-2233-46e3-9de6-e9591d0ce5da",
   "metadata": {},
   "outputs": [
    {
     "data": {
      "text/plain": [
       "fuel\n",
       "Diesel    4399\n",
       "Petrol    3621\n",
       "CNG         57\n",
       "LPG         38\n",
       "Name: count, dtype: int64"
      ]
     },
     "execution_count": 14,
     "metadata": {},
     "output_type": "execute_result"
    }
   ],
   "source": [
    "df3['fuel'].value_counts()"
   ]
  },
  {
   "cell_type": "code",
   "execution_count": 15,
   "id": "357ba730-feab-4beb-a6f0-307f840fa15d",
   "metadata": {},
   "outputs": [
    {
     "data": {
      "text/plain": [
       "np.int64(1202)"
      ]
     },
     "execution_count": 15,
     "metadata": {},
     "output_type": "execute_result"
    }
   ],
   "source": [
    "df3.duplicated().sum()"
   ]
  },
  {
   "cell_type": "code",
   "execution_count": 16,
   "id": "54b6ce36-2a36-4bb7-bae0-64b14f7edbdb",
   "metadata": {},
   "outputs": [],
   "source": [
    "df4 = df3.drop_duplicates()"
   ]
  },
  {
   "cell_type": "code",
   "execution_count": 17,
   "id": "12bc9b8f-e494-4d0c-ab81-4704ae305802",
   "metadata": {},
   "outputs": [
    {
     "data": {
      "text/plain": [
       "np.int64(0)"
      ]
     },
     "execution_count": 17,
     "metadata": {},
     "output_type": "execute_result"
    }
   ],
   "source": [
    "df4.duplicated().sum()"
   ]
  },
  {
   "cell_type": "code",
   "execution_count": 18,
   "id": "9ebe5051-f818-480a-bdc4-82da74c02fc0",
   "metadata": {},
   "outputs": [
    {
     "data": {
      "text/plain": [
       "name               0\n",
       "year               0\n",
       "selling_price      0\n",
       "km_driven          0\n",
       "fuel               0\n",
       "transmission       0\n",
       "owner              0\n",
       "mileage          208\n",
       "dtype: int64"
      ]
     },
     "execution_count": 18,
     "metadata": {},
     "output_type": "execute_result"
    }
   ],
   "source": [
    "df4.isnull().sum()"
   ]
  },
  {
   "cell_type": "code",
   "execution_count": 19,
   "id": "9f420ad0-f389-4222-86f1-88708a9baaf4",
   "metadata": {},
   "outputs": [
    {
     "name": "stderr",
     "output_type": "stream",
     "text": [
      "C:\\Users\\gkans\\AppData\\Local\\Temp\\ipykernel_18756\\3714170170.py:2: SettingWithCopyWarning: \n",
      "A value is trying to be set on a copy of a slice from a DataFrame.\n",
      "Try using .loc[row_indexer,col_indexer] = value instead\n",
      "\n",
      "See the caveats in the documentation: https://pandas.pydata.org/pandas-docs/stable/user_guide/indexing.html#returning-a-view-versus-a-copy\n",
      "  df4['mileage'] = df4['mileage'].apply(lambda x: x.split(\" \")[0] if pd.notnull(x) else x)\n"
     ]
    }
   ],
   "source": [
    "# Check if the 'mileage' column is not null and split the first part\n",
    "df4['mileage'] = df4['mileage'].apply(lambda x: x.split(\" \")[0] if pd.notnull(x) else x)\n"
   ]
  },
  {
   "cell_type": "code",
   "execution_count": 20,
   "id": "5b26900f-e0fd-42c0-a31a-28ff910bbc42",
   "metadata": {},
   "outputs": [
    {
     "name": "stderr",
     "output_type": "stream",
     "text": [
      "C:\\Users\\gkans\\AppData\\Local\\Temp\\ipykernel_18756\\3182489991.py:1: SettingWithCopyWarning: \n",
      "A value is trying to be set on a copy of a slice from a DataFrame.\n",
      "Try using .loc[row_indexer,col_indexer] = value instead\n",
      "\n",
      "See the caveats in the documentation: https://pandas.pydata.org/pandas-docs/stable/user_guide/indexing.html#returning-a-view-versus-a-copy\n",
      "  df4['mileage'] = df4['mileage'].apply(lambda x: float(x) if pd.notnull(x) else x)\n"
     ]
    }
   ],
   "source": [
    "df4['mileage'] = df4['mileage'].apply(lambda x: float(x) if pd.notnull(x) else x)"
   ]
  },
  {
   "cell_type": "code",
   "execution_count": 21,
   "id": "a6ec6f55-ffb3-4c6a-9df1-56f294de3279",
   "metadata": {},
   "outputs": [
    {
     "data": {
      "text/plain": [
       "(6913, 8)"
      ]
     },
     "execution_count": 21,
     "metadata": {},
     "output_type": "execute_result"
    }
   ],
   "source": [
    "df4.shape"
   ]
  },
  {
   "cell_type": "code",
   "execution_count": 22,
   "id": "ad435c70-1348-4dd1-a34c-c7c04b9dc7fa",
   "metadata": {},
   "outputs": [],
   "source": [
    "# Remove rows where 'mileage' is less than 9, but keep NaN values\n",
    "df5 = df4[(df4['mileage'] >= 9) | (df4['mileage'].isnull())]"
   ]
  },
  {
   "cell_type": "code",
   "execution_count": 23,
   "id": "5cd01d3e-3eeb-4dae-8604-834487a796a7",
   "metadata": {},
   "outputs": [
    {
     "name": "stdout",
     "output_type": "stream",
     "text": [
      "<class 'pandas.core.frame.DataFrame'>\n",
      "Index: 6898 entries, 0 to 8125\n",
      "Data columns (total 8 columns):\n",
      " #   Column         Non-Null Count  Dtype  \n",
      "---  ------         --------------  -----  \n",
      " 0   name           6898 non-null   object \n",
      " 1   year           6898 non-null   int64  \n",
      " 2   selling_price  6898 non-null   int64  \n",
      " 3   km_driven      6898 non-null   int64  \n",
      " 4   fuel           6898 non-null   object \n",
      " 5   transmission   6898 non-null   object \n",
      " 6   owner          6898 non-null   object \n",
      " 7   mileage        6690 non-null   float64\n",
      "dtypes: float64(1), int64(3), object(4)\n",
      "memory usage: 485.0+ KB\n"
     ]
    }
   ],
   "source": [
    "df5.info()"
   ]
  },
  {
   "cell_type": "code",
   "execution_count": 24,
   "id": "0a17b4fe-7a48-4356-9188-ea260d90c1ac",
   "metadata": {},
   "outputs": [
    {
     "name": "stderr",
     "output_type": "stream",
     "text": [
      "C:\\Users\\gkans\\AppData\\Local\\Temp\\ipykernel_18756\\3272302041.py:1: SettingWithCopyWarning: \n",
      "A value is trying to be set on a copy of a slice from a DataFrame.\n",
      "Try using .loc[row_indexer,col_indexer] = value instead\n",
      "\n",
      "See the caveats in the documentation: https://pandas.pydata.org/pandas-docs/stable/user_guide/indexing.html#returning-a-view-versus-a-copy\n",
      "  df5['mileage'] = df5['mileage'].fillna(df5['mileage'].mean())\n"
     ]
    }
   ],
   "source": [
    "df5['mileage'] = df5['mileage'].fillna(df5['mileage'].mean())"
   ]
  },
  {
   "cell_type": "code",
   "execution_count": 25,
   "id": "0cdc1d09-41a1-4a7a-97ae-b6e9ae61e51f",
   "metadata": {},
   "outputs": [
    {
     "data": {
      "text/plain": [
       "name             0\n",
       "year             0\n",
       "selling_price    0\n",
       "km_driven        0\n",
       "fuel             0\n",
       "transmission     0\n",
       "owner            0\n",
       "mileage          0\n",
       "dtype: int64"
      ]
     },
     "execution_count": 25,
     "metadata": {},
     "output_type": "execute_result"
    }
   ],
   "source": [
    "df5.isnull().sum()"
   ]
  },
  {
   "cell_type": "code",
   "execution_count": 26,
   "id": "b58c26e7-0c62-4d34-9221-be57a3a8a1c4",
   "metadata": {},
   "outputs": [
    {
     "data": {
      "text/html": [
       "<div>\n",
       "<style scoped>\n",
       "    .dataframe tbody tr th:only-of-type {\n",
       "        vertical-align: middle;\n",
       "    }\n",
       "\n",
       "    .dataframe tbody tr th {\n",
       "        vertical-align: top;\n",
       "    }\n",
       "\n",
       "    .dataframe thead th {\n",
       "        text-align: right;\n",
       "    }\n",
       "</style>\n",
       "<table border=\"1\" class=\"dataframe\">\n",
       "  <thead>\n",
       "    <tr style=\"text-align: right;\">\n",
       "      <th></th>\n",
       "      <th>year</th>\n",
       "      <th>selling_price</th>\n",
       "      <th>km_driven</th>\n",
       "      <th>mileage</th>\n",
       "    </tr>\n",
       "  </thead>\n",
       "  <tbody>\n",
       "    <tr>\n",
       "      <th>count</th>\n",
       "      <td>6898.000000</td>\n",
       "      <td>6.898000e+03</td>\n",
       "      <td>6898.000000</td>\n",
       "      <td>6898.000000</td>\n",
       "    </tr>\n",
       "    <tr>\n",
       "      <th>mean</th>\n",
       "      <td>2013.413888</td>\n",
       "      <td>5.141496e+05</td>\n",
       "      <td>73519.508988</td>\n",
       "      <td>19.511043</td>\n",
       "    </tr>\n",
       "    <tr>\n",
       "      <th>std</th>\n",
       "      <td>4.074473</td>\n",
       "      <td>5.048842e+05</td>\n",
       "      <td>48578.548795</td>\n",
       "      <td>3.888731</td>\n",
       "    </tr>\n",
       "    <tr>\n",
       "      <th>min</th>\n",
       "      <td>1983.000000</td>\n",
       "      <td>2.999900e+04</td>\n",
       "      <td>1.000000</td>\n",
       "      <td>9.000000</td>\n",
       "    </tr>\n",
       "    <tr>\n",
       "      <th>25%</th>\n",
       "      <td>2011.000000</td>\n",
       "      <td>2.500000e+05</td>\n",
       "      <td>40000.000000</td>\n",
       "      <td>17.000000</td>\n",
       "    </tr>\n",
       "    <tr>\n",
       "      <th>50%</th>\n",
       "      <td>2014.000000</td>\n",
       "      <td>4.000000e+05</td>\n",
       "      <td>70000.000000</td>\n",
       "      <td>19.511043</td>\n",
       "    </tr>\n",
       "    <tr>\n",
       "      <th>75%</th>\n",
       "      <td>2017.000000</td>\n",
       "      <td>6.300000e+05</td>\n",
       "      <td>100000.000000</td>\n",
       "      <td>22.320000</td>\n",
       "    </tr>\n",
       "    <tr>\n",
       "      <th>max</th>\n",
       "      <td>2020.000000</td>\n",
       "      <td>1.000000e+07</td>\n",
       "      <td>577414.000000</td>\n",
       "      <td>42.000000</td>\n",
       "    </tr>\n",
       "  </tbody>\n",
       "</table>\n",
       "</div>"
      ],
      "text/plain": [
       "              year  selling_price      km_driven      mileage\n",
       "count  6898.000000   6.898000e+03    6898.000000  6898.000000\n",
       "mean   2013.413888   5.141496e+05   73519.508988    19.511043\n",
       "std       4.074473   5.048842e+05   48578.548795     3.888731\n",
       "min    1983.000000   2.999900e+04       1.000000     9.000000\n",
       "25%    2011.000000   2.500000e+05   40000.000000    17.000000\n",
       "50%    2014.000000   4.000000e+05   70000.000000    19.511043\n",
       "75%    2017.000000   6.300000e+05  100000.000000    22.320000\n",
       "max    2020.000000   1.000000e+07  577414.000000    42.000000"
      ]
     },
     "execution_count": 26,
     "metadata": {},
     "output_type": "execute_result"
    }
   ],
   "source": [
    "df5.describe()"
   ]
  },
  {
   "cell_type": "code",
   "execution_count": 27,
   "id": "b12b35ec-b41e-46fe-8586-7f65b17f2eda",
   "metadata": {},
   "outputs": [
    {
     "data": {
      "text/plain": [
       "(6893, 8)"
      ]
     },
     "execution_count": 27,
     "metadata": {},
     "output_type": "execute_result"
    }
   ],
   "source": [
    "# Remove rows where both conditions are satisfied\n",
    "df6 = df5[~((df5['km_driven'] < 10000) & (df5['year'] < 2012))]\n",
    "df6.shape"
   ]
  },
  {
   "cell_type": "code",
   "execution_count": 28,
   "id": "518235b1-0038-4b67-82b9-0606c4b7659a",
   "metadata": {},
   "outputs": [],
   "source": [
    "df7 = df6.drop(columns=[\"owner\"])"
   ]
  },
  {
   "cell_type": "code",
   "execution_count": 29,
   "id": "a32a1d0b-1e5a-457b-8e46-cf94dc646b77",
   "metadata": {},
   "outputs": [
    {
     "data": {
      "text/html": [
       "<div>\n",
       "<style scoped>\n",
       "    .dataframe tbody tr th:only-of-type {\n",
       "        vertical-align: middle;\n",
       "    }\n",
       "\n",
       "    .dataframe tbody tr th {\n",
       "        vertical-align: top;\n",
       "    }\n",
       "\n",
       "    .dataframe thead th {\n",
       "        text-align: right;\n",
       "    }\n",
       "</style>\n",
       "<table border=\"1\" class=\"dataframe\">\n",
       "  <thead>\n",
       "    <tr style=\"text-align: right;\">\n",
       "      <th></th>\n",
       "      <th>name</th>\n",
       "      <th>year</th>\n",
       "      <th>selling_price</th>\n",
       "      <th>km_driven</th>\n",
       "      <th>fuel</th>\n",
       "      <th>transmission</th>\n",
       "      <th>mileage</th>\n",
       "    </tr>\n",
       "  </thead>\n",
       "  <tbody>\n",
       "    <tr>\n",
       "      <th>0</th>\n",
       "      <td>Maruti Swift Dzire VDI</td>\n",
       "      <td>2014</td>\n",
       "      <td>450000</td>\n",
       "      <td>145500</td>\n",
       "      <td>Diesel</td>\n",
       "      <td>Manual</td>\n",
       "      <td>23.40</td>\n",
       "    </tr>\n",
       "    <tr>\n",
       "      <th>1</th>\n",
       "      <td>Skoda Rapid 1.5 TDI Ambition</td>\n",
       "      <td>2014</td>\n",
       "      <td>370000</td>\n",
       "      <td>120000</td>\n",
       "      <td>Diesel</td>\n",
       "      <td>Manual</td>\n",
       "      <td>21.14</td>\n",
       "    </tr>\n",
       "    <tr>\n",
       "      <th>2</th>\n",
       "      <td>Honda City 2017-2020 EXi</td>\n",
       "      <td>2006</td>\n",
       "      <td>158000</td>\n",
       "      <td>140000</td>\n",
       "      <td>Petrol</td>\n",
       "      <td>Manual</td>\n",
       "      <td>17.70</td>\n",
       "    </tr>\n",
       "    <tr>\n",
       "      <th>3</th>\n",
       "      <td>Hyundai i20 Sportz Diesel</td>\n",
       "      <td>2010</td>\n",
       "      <td>225000</td>\n",
       "      <td>127000</td>\n",
       "      <td>Diesel</td>\n",
       "      <td>Manual</td>\n",
       "      <td>23.00</td>\n",
       "    </tr>\n",
       "    <tr>\n",
       "      <th>4</th>\n",
       "      <td>Maruti Swift VXI BSIII</td>\n",
       "      <td>2007</td>\n",
       "      <td>130000</td>\n",
       "      <td>120000</td>\n",
       "      <td>Petrol</td>\n",
       "      <td>Manual</td>\n",
       "      <td>16.10</td>\n",
       "    </tr>\n",
       "  </tbody>\n",
       "</table>\n",
       "</div>"
      ],
      "text/plain": [
       "                           name  year  selling_price  km_driven    fuel  \\\n",
       "0        Maruti Swift Dzire VDI  2014         450000     145500  Diesel   \n",
       "1  Skoda Rapid 1.5 TDI Ambition  2014         370000     120000  Diesel   \n",
       "2      Honda City 2017-2020 EXi  2006         158000     140000  Petrol   \n",
       "3     Hyundai i20 Sportz Diesel  2010         225000     127000  Diesel   \n",
       "4        Maruti Swift VXI BSIII  2007         130000     120000  Petrol   \n",
       "\n",
       "  transmission  mileage  \n",
       "0       Manual    23.40  \n",
       "1       Manual    21.14  \n",
       "2       Manual    17.70  \n",
       "3       Manual    23.00  \n",
       "4       Manual    16.10  "
      ]
     },
     "execution_count": 29,
     "metadata": {},
     "output_type": "execute_result"
    }
   ],
   "source": [
    "df7.head()"
   ]
  },
  {
   "cell_type": "code",
   "execution_count": 30,
   "id": "06d63b28-a874-4461-9551-f7f784dc512e",
   "metadata": {},
   "outputs": [
    {
     "name": "stdout",
     "output_type": "stream",
     "text": [
      "<class 'pandas.core.frame.DataFrame'>\n",
      "Index: 6893 entries, 0 to 8125\n",
      "Data columns (total 7 columns):\n",
      " #   Column         Non-Null Count  Dtype  \n",
      "---  ------         --------------  -----  \n",
      " 0   name           6893 non-null   object \n",
      " 1   year           6893 non-null   int64  \n",
      " 2   selling_price  6893 non-null   int64  \n",
      " 3   km_driven      6893 non-null   int64  \n",
      " 4   fuel           6893 non-null   object \n",
      " 5   transmission   6893 non-null   object \n",
      " 6   mileage        6893 non-null   float64\n",
      "dtypes: float64(1), int64(3), object(3)\n",
      "memory usage: 430.8+ KB\n"
     ]
    }
   ],
   "source": [
    "df7.info()"
   ]
  },
  {
   "cell_type": "code",
   "execution_count": 31,
   "id": "61463760-9bc1-49c8-b476-4e479b5c0212",
   "metadata": {},
   "outputs": [],
   "source": [
    "df7[\"car_age\"] = 2025 - df7[\"year\"] -5"
   ]
  },
  {
   "cell_type": "code",
   "execution_count": 32,
   "id": "ef89723a-f89a-4da0-a4a4-a29cd8117837",
   "metadata": {},
   "outputs": [],
   "source": [
    "df7[\"km_driven\"] = df7[\"km_driven\"]/10000\n",
    "df7[\"selling_price\"] = df7[\"selling_price\"]/100000"
   ]
  },
  {
   "cell_type": "code",
   "execution_count": 33,
   "id": "8035f4de-9ae6-449b-8b7e-fe5257bc6714",
   "metadata": {},
   "outputs": [
    {
     "data": {
      "text/html": [
       "<div>\n",
       "<style scoped>\n",
       "    .dataframe tbody tr th:only-of-type {\n",
       "        vertical-align: middle;\n",
       "    }\n",
       "\n",
       "    .dataframe tbody tr th {\n",
       "        vertical-align: top;\n",
       "    }\n",
       "\n",
       "    .dataframe thead th {\n",
       "        text-align: right;\n",
       "    }\n",
       "</style>\n",
       "<table border=\"1\" class=\"dataframe\">\n",
       "  <thead>\n",
       "    <tr style=\"text-align: right;\">\n",
       "      <th></th>\n",
       "      <th>name</th>\n",
       "      <th>year</th>\n",
       "      <th>selling_price</th>\n",
       "      <th>km_driven</th>\n",
       "      <th>fuel</th>\n",
       "      <th>transmission</th>\n",
       "      <th>mileage</th>\n",
       "      <th>car_age</th>\n",
       "    </tr>\n",
       "  </thead>\n",
       "  <tbody>\n",
       "    <tr>\n",
       "      <th>0</th>\n",
       "      <td>Maruti Swift Dzire VDI</td>\n",
       "      <td>2014</td>\n",
       "      <td>4.50</td>\n",
       "      <td>14.55</td>\n",
       "      <td>Diesel</td>\n",
       "      <td>Manual</td>\n",
       "      <td>23.40</td>\n",
       "      <td>6</td>\n",
       "    </tr>\n",
       "    <tr>\n",
       "      <th>1</th>\n",
       "      <td>Skoda Rapid 1.5 TDI Ambition</td>\n",
       "      <td>2014</td>\n",
       "      <td>3.70</td>\n",
       "      <td>12.00</td>\n",
       "      <td>Diesel</td>\n",
       "      <td>Manual</td>\n",
       "      <td>21.14</td>\n",
       "      <td>6</td>\n",
       "    </tr>\n",
       "    <tr>\n",
       "      <th>2</th>\n",
       "      <td>Honda City 2017-2020 EXi</td>\n",
       "      <td>2006</td>\n",
       "      <td>1.58</td>\n",
       "      <td>14.00</td>\n",
       "      <td>Petrol</td>\n",
       "      <td>Manual</td>\n",
       "      <td>17.70</td>\n",
       "      <td>14</td>\n",
       "    </tr>\n",
       "    <tr>\n",
       "      <th>3</th>\n",
       "      <td>Hyundai i20 Sportz Diesel</td>\n",
       "      <td>2010</td>\n",
       "      <td>2.25</td>\n",
       "      <td>12.70</td>\n",
       "      <td>Diesel</td>\n",
       "      <td>Manual</td>\n",
       "      <td>23.00</td>\n",
       "      <td>10</td>\n",
       "    </tr>\n",
       "    <tr>\n",
       "      <th>4</th>\n",
       "      <td>Maruti Swift VXI BSIII</td>\n",
       "      <td>2007</td>\n",
       "      <td>1.30</td>\n",
       "      <td>12.00</td>\n",
       "      <td>Petrol</td>\n",
       "      <td>Manual</td>\n",
       "      <td>16.10</td>\n",
       "      <td>13</td>\n",
       "    </tr>\n",
       "    <tr>\n",
       "      <th>...</th>\n",
       "      <td>...</td>\n",
       "      <td>...</td>\n",
       "      <td>...</td>\n",
       "      <td>...</td>\n",
       "      <td>...</td>\n",
       "      <td>...</td>\n",
       "      <td>...</td>\n",
       "      <td>...</td>\n",
       "    </tr>\n",
       "    <tr>\n",
       "      <th>8121</th>\n",
       "      <td>Maruti Wagon R VXI BS IV with ABS</td>\n",
       "      <td>2013</td>\n",
       "      <td>2.60</td>\n",
       "      <td>5.00</td>\n",
       "      <td>Petrol</td>\n",
       "      <td>Manual</td>\n",
       "      <td>18.90</td>\n",
       "      <td>7</td>\n",
       "    </tr>\n",
       "    <tr>\n",
       "      <th>8122</th>\n",
       "      <td>Hyundai i20 Magna 1.4 CRDi</td>\n",
       "      <td>2014</td>\n",
       "      <td>4.75</td>\n",
       "      <td>8.00</td>\n",
       "      <td>Diesel</td>\n",
       "      <td>Manual</td>\n",
       "      <td>22.54</td>\n",
       "      <td>6</td>\n",
       "    </tr>\n",
       "    <tr>\n",
       "      <th>8123</th>\n",
       "      <td>Hyundai i20 Magna</td>\n",
       "      <td>2013</td>\n",
       "      <td>3.20</td>\n",
       "      <td>11.00</td>\n",
       "      <td>Petrol</td>\n",
       "      <td>Manual</td>\n",
       "      <td>18.50</td>\n",
       "      <td>7</td>\n",
       "    </tr>\n",
       "    <tr>\n",
       "      <th>8124</th>\n",
       "      <td>Hyundai Verna CRDi SX</td>\n",
       "      <td>2007</td>\n",
       "      <td>1.35</td>\n",
       "      <td>11.90</td>\n",
       "      <td>Diesel</td>\n",
       "      <td>Manual</td>\n",
       "      <td>16.80</td>\n",
       "      <td>13</td>\n",
       "    </tr>\n",
       "    <tr>\n",
       "      <th>8125</th>\n",
       "      <td>Maruti Swift Dzire ZDi</td>\n",
       "      <td>2009</td>\n",
       "      <td>3.82</td>\n",
       "      <td>12.00</td>\n",
       "      <td>Diesel</td>\n",
       "      <td>Manual</td>\n",
       "      <td>19.30</td>\n",
       "      <td>11</td>\n",
       "    </tr>\n",
       "  </tbody>\n",
       "</table>\n",
       "<p>6893 rows × 8 columns</p>\n",
       "</div>"
      ],
      "text/plain": [
       "                                   name  year  selling_price  km_driven  \\\n",
       "0                Maruti Swift Dzire VDI  2014           4.50      14.55   \n",
       "1          Skoda Rapid 1.5 TDI Ambition  2014           3.70      12.00   \n",
       "2              Honda City 2017-2020 EXi  2006           1.58      14.00   \n",
       "3             Hyundai i20 Sportz Diesel  2010           2.25      12.70   \n",
       "4                Maruti Swift VXI BSIII  2007           1.30      12.00   \n",
       "...                                 ...   ...            ...        ...   \n",
       "8121  Maruti Wagon R VXI BS IV with ABS  2013           2.60       5.00   \n",
       "8122         Hyundai i20 Magna 1.4 CRDi  2014           4.75       8.00   \n",
       "8123                  Hyundai i20 Magna  2013           3.20      11.00   \n",
       "8124              Hyundai Verna CRDi SX  2007           1.35      11.90   \n",
       "8125             Maruti Swift Dzire ZDi  2009           3.82      12.00   \n",
       "\n",
       "        fuel transmission  mileage  car_age  \n",
       "0     Diesel       Manual    23.40        6  \n",
       "1     Diesel       Manual    21.14        6  \n",
       "2     Petrol       Manual    17.70       14  \n",
       "3     Diesel       Manual    23.00       10  \n",
       "4     Petrol       Manual    16.10       13  \n",
       "...      ...          ...      ...      ...  \n",
       "8121  Petrol       Manual    18.90        7  \n",
       "8122  Diesel       Manual    22.54        6  \n",
       "8123  Petrol       Manual    18.50        7  \n",
       "8124  Diesel       Manual    16.80       13  \n",
       "8125  Diesel       Manual    19.30       11  \n",
       "\n",
       "[6893 rows x 8 columns]"
      ]
     },
     "execution_count": 33,
     "metadata": {},
     "output_type": "execute_result"
    }
   ],
   "source": [
    "df7"
   ]
  },
  {
   "cell_type": "code",
   "execution_count": 34,
   "id": "bbda7ce2-e230-413a-8ff6-0d6564141031",
   "metadata": {},
   "outputs": [
    {
     "data": {
      "text/plain": [
       "name\n",
       "Maruti Swift Dzire VDI                    118\n",
       "Maruti Alto 800 LXI                        76\n",
       "Maruti Alto LXi                            69\n",
       "Maruti Swift VDI                           60\n",
       "Maruti Swift VDI BSIV                      56\n",
       "                                         ... \n",
       "Tata Indica Vista Aura 1.2 Safire BSIV      1\n",
       "Maruti Gypsy King Soft Top                  1\n",
       "Chevrolet Aveo U-VA 1.2 LT                  1\n",
       "Renault Duster RXZ 110PS AMT BSIV           1\n",
       "Honda Jazz V Diesel                         1\n",
       "Name: count, Length: 2039, dtype: int64"
      ]
     },
     "execution_count": 34,
     "metadata": {},
     "output_type": "execute_result"
    }
   ],
   "source": [
    "df7['name'].value_counts()"
   ]
  },
  {
   "cell_type": "code",
   "execution_count": 35,
   "id": "ceae340b-9546-437d-a2d2-a1abc95e470b",
   "metadata": {},
   "outputs": [],
   "source": [
    "# Keep only the first two words in the 'name' column\n",
    "df7['name'] = df7['name'].str.split().str[:1].str.join(' ').str.lower()"
   ]
  },
  {
   "cell_type": "code",
   "execution_count": 36,
   "id": "666570ec-8192-4a3c-812f-d7a1c93b8481",
   "metadata": {},
   "outputs": [
    {
     "data": {
      "text/plain": [
       "32"
      ]
     },
     "execution_count": 36,
     "metadata": {},
     "output_type": "execute_result"
    }
   ],
   "source": [
    "len(df7[\"name\"].unique())"
   ]
  },
  {
   "cell_type": "code",
   "execution_count": 37,
   "id": "f6abedc1-a102-4c2f-9694-7ba3beff1dcd",
   "metadata": {},
   "outputs": [],
   "source": [
    "dummies_name = pd.get_dummies(df7['name'])\n",
    "dummies_fuel = pd.get_dummies(df7['fuel'])\n",
    "dummies_transmission = pd.get_dummies(df7['transmission'])"
   ]
  },
  {
   "cell_type": "code",
   "execution_count": 38,
   "id": "bf72197e-32c9-4403-a171-e0dd1e4e4105",
   "metadata": {},
   "outputs": [
    {
     "data": {
      "text/html": [
       "<div>\n",
       "<style scoped>\n",
       "    .dataframe tbody tr th:only-of-type {\n",
       "        vertical-align: middle;\n",
       "    }\n",
       "\n",
       "    .dataframe tbody tr th {\n",
       "        vertical-align: top;\n",
       "    }\n",
       "\n",
       "    .dataframe thead th {\n",
       "        text-align: right;\n",
       "    }\n",
       "</style>\n",
       "<table border=\"1\" class=\"dataframe\">\n",
       "  <thead>\n",
       "    <tr style=\"text-align: right;\">\n",
       "      <th></th>\n",
       "      <th>CNG</th>\n",
       "      <th>Diesel</th>\n",
       "      <th>LPG</th>\n",
       "      <th>Petrol</th>\n",
       "    </tr>\n",
       "  </thead>\n",
       "  <tbody>\n",
       "    <tr>\n",
       "      <th>0</th>\n",
       "      <td>False</td>\n",
       "      <td>True</td>\n",
       "      <td>False</td>\n",
       "      <td>False</td>\n",
       "    </tr>\n",
       "    <tr>\n",
       "      <th>1</th>\n",
       "      <td>False</td>\n",
       "      <td>True</td>\n",
       "      <td>False</td>\n",
       "      <td>False</td>\n",
       "    </tr>\n",
       "    <tr>\n",
       "      <th>2</th>\n",
       "      <td>False</td>\n",
       "      <td>False</td>\n",
       "      <td>False</td>\n",
       "      <td>True</td>\n",
       "    </tr>\n",
       "    <tr>\n",
       "      <th>3</th>\n",
       "      <td>False</td>\n",
       "      <td>True</td>\n",
       "      <td>False</td>\n",
       "      <td>False</td>\n",
       "    </tr>\n",
       "    <tr>\n",
       "      <th>4</th>\n",
       "      <td>False</td>\n",
       "      <td>False</td>\n",
       "      <td>False</td>\n",
       "      <td>True</td>\n",
       "    </tr>\n",
       "  </tbody>\n",
       "</table>\n",
       "</div>"
      ],
      "text/plain": [
       "     CNG  Diesel    LPG  Petrol\n",
       "0  False    True  False   False\n",
       "1  False    True  False   False\n",
       "2  False   False  False    True\n",
       "3  False    True  False   False\n",
       "4  False   False  False    True"
      ]
     },
     "execution_count": 38,
     "metadata": {},
     "output_type": "execute_result"
    }
   ],
   "source": [
    "dummies_fuel.head()"
   ]
  },
  {
   "cell_type": "code",
   "execution_count": null,
   "id": "398ed203-898f-492c-bf0b-0a1bd02e6069",
   "metadata": {},
   "outputs": [],
   "source": []
  },
  {
   "cell_type": "code",
   "execution_count": 39,
   "id": "521832a6-f41e-41ce-8f0c-30758150d639",
   "metadata": {},
   "outputs": [],
   "source": [
    "df8 = pd.concat([df7, dummies_name.drop(\"peugeot\", axis=\"columns\"), dummies_fuel.drop(\"LPG\", axis=\"columns\"), dummies_transmission['Automatic']], axis=\"columns\")"
   ]
  },
  {
   "cell_type": "code",
   "execution_count": 40,
   "id": "9b6afa82-8c97-455e-b807-ed5d3f351d88",
   "metadata": {
    "jp-MarkdownHeadingCollapsed": true
   },
   "outputs": [],
   "source": [
    "df9 = df8.drop([\"fuel\", \"transmission\",\"year\", \"name\"], axis=\"columns\")"
   ]
  },
  {
   "cell_type": "code",
   "execution_count": 41,
   "id": "d64909bc-f158-4cad-9e20-142c2c26435d",
   "metadata": {},
   "outputs": [
    {
     "data": {
      "text/html": [
       "<div>\n",
       "<style scoped>\n",
       "    .dataframe tbody tr th:only-of-type {\n",
       "        vertical-align: middle;\n",
       "    }\n",
       "\n",
       "    .dataframe tbody tr th {\n",
       "        vertical-align: top;\n",
       "    }\n",
       "\n",
       "    .dataframe thead th {\n",
       "        text-align: right;\n",
       "    }\n",
       "</style>\n",
       "<table border=\"1\" class=\"dataframe\">\n",
       "  <thead>\n",
       "    <tr style=\"text-align: right;\">\n",
       "      <th></th>\n",
       "      <th>selling_price</th>\n",
       "      <th>km_driven</th>\n",
       "      <th>mileage</th>\n",
       "      <th>car_age</th>\n",
       "      <th>ambassador</th>\n",
       "      <th>ashok</th>\n",
       "      <th>audi</th>\n",
       "      <th>bmw</th>\n",
       "      <th>chevrolet</th>\n",
       "      <th>daewoo</th>\n",
       "      <th>...</th>\n",
       "      <th>renault</th>\n",
       "      <th>skoda</th>\n",
       "      <th>tata</th>\n",
       "      <th>toyota</th>\n",
       "      <th>volkswagen</th>\n",
       "      <th>volvo</th>\n",
       "      <th>CNG</th>\n",
       "      <th>Diesel</th>\n",
       "      <th>Petrol</th>\n",
       "      <th>Automatic</th>\n",
       "    </tr>\n",
       "  </thead>\n",
       "  <tbody>\n",
       "    <tr>\n",
       "      <th>0</th>\n",
       "      <td>4.50</td>\n",
       "      <td>14.55</td>\n",
       "      <td>23.40</td>\n",
       "      <td>6</td>\n",
       "      <td>False</td>\n",
       "      <td>False</td>\n",
       "      <td>False</td>\n",
       "      <td>False</td>\n",
       "      <td>False</td>\n",
       "      <td>False</td>\n",
       "      <td>...</td>\n",
       "      <td>False</td>\n",
       "      <td>False</td>\n",
       "      <td>False</td>\n",
       "      <td>False</td>\n",
       "      <td>False</td>\n",
       "      <td>False</td>\n",
       "      <td>False</td>\n",
       "      <td>True</td>\n",
       "      <td>False</td>\n",
       "      <td>False</td>\n",
       "    </tr>\n",
       "    <tr>\n",
       "      <th>1</th>\n",
       "      <td>3.70</td>\n",
       "      <td>12.00</td>\n",
       "      <td>21.14</td>\n",
       "      <td>6</td>\n",
       "      <td>False</td>\n",
       "      <td>False</td>\n",
       "      <td>False</td>\n",
       "      <td>False</td>\n",
       "      <td>False</td>\n",
       "      <td>False</td>\n",
       "      <td>...</td>\n",
       "      <td>False</td>\n",
       "      <td>True</td>\n",
       "      <td>False</td>\n",
       "      <td>False</td>\n",
       "      <td>False</td>\n",
       "      <td>False</td>\n",
       "      <td>False</td>\n",
       "      <td>True</td>\n",
       "      <td>False</td>\n",
       "      <td>False</td>\n",
       "    </tr>\n",
       "    <tr>\n",
       "      <th>2</th>\n",
       "      <td>1.58</td>\n",
       "      <td>14.00</td>\n",
       "      <td>17.70</td>\n",
       "      <td>14</td>\n",
       "      <td>False</td>\n",
       "      <td>False</td>\n",
       "      <td>False</td>\n",
       "      <td>False</td>\n",
       "      <td>False</td>\n",
       "      <td>False</td>\n",
       "      <td>...</td>\n",
       "      <td>False</td>\n",
       "      <td>False</td>\n",
       "      <td>False</td>\n",
       "      <td>False</td>\n",
       "      <td>False</td>\n",
       "      <td>False</td>\n",
       "      <td>False</td>\n",
       "      <td>False</td>\n",
       "      <td>True</td>\n",
       "      <td>False</td>\n",
       "    </tr>\n",
       "    <tr>\n",
       "      <th>3</th>\n",
       "      <td>2.25</td>\n",
       "      <td>12.70</td>\n",
       "      <td>23.00</td>\n",
       "      <td>10</td>\n",
       "      <td>False</td>\n",
       "      <td>False</td>\n",
       "      <td>False</td>\n",
       "      <td>False</td>\n",
       "      <td>False</td>\n",
       "      <td>False</td>\n",
       "      <td>...</td>\n",
       "      <td>False</td>\n",
       "      <td>False</td>\n",
       "      <td>False</td>\n",
       "      <td>False</td>\n",
       "      <td>False</td>\n",
       "      <td>False</td>\n",
       "      <td>False</td>\n",
       "      <td>True</td>\n",
       "      <td>False</td>\n",
       "      <td>False</td>\n",
       "    </tr>\n",
       "    <tr>\n",
       "      <th>4</th>\n",
       "      <td>1.30</td>\n",
       "      <td>12.00</td>\n",
       "      <td>16.10</td>\n",
       "      <td>13</td>\n",
       "      <td>False</td>\n",
       "      <td>False</td>\n",
       "      <td>False</td>\n",
       "      <td>False</td>\n",
       "      <td>False</td>\n",
       "      <td>False</td>\n",
       "      <td>...</td>\n",
       "      <td>False</td>\n",
       "      <td>False</td>\n",
       "      <td>False</td>\n",
       "      <td>False</td>\n",
       "      <td>False</td>\n",
       "      <td>False</td>\n",
       "      <td>False</td>\n",
       "      <td>False</td>\n",
       "      <td>True</td>\n",
       "      <td>False</td>\n",
       "    </tr>\n",
       "    <tr>\n",
       "      <th>...</th>\n",
       "      <td>...</td>\n",
       "      <td>...</td>\n",
       "      <td>...</td>\n",
       "      <td>...</td>\n",
       "      <td>...</td>\n",
       "      <td>...</td>\n",
       "      <td>...</td>\n",
       "      <td>...</td>\n",
       "      <td>...</td>\n",
       "      <td>...</td>\n",
       "      <td>...</td>\n",
       "      <td>...</td>\n",
       "      <td>...</td>\n",
       "      <td>...</td>\n",
       "      <td>...</td>\n",
       "      <td>...</td>\n",
       "      <td>...</td>\n",
       "      <td>...</td>\n",
       "      <td>...</td>\n",
       "      <td>...</td>\n",
       "      <td>...</td>\n",
       "    </tr>\n",
       "    <tr>\n",
       "      <th>8121</th>\n",
       "      <td>2.60</td>\n",
       "      <td>5.00</td>\n",
       "      <td>18.90</td>\n",
       "      <td>7</td>\n",
       "      <td>False</td>\n",
       "      <td>False</td>\n",
       "      <td>False</td>\n",
       "      <td>False</td>\n",
       "      <td>False</td>\n",
       "      <td>False</td>\n",
       "      <td>...</td>\n",
       "      <td>False</td>\n",
       "      <td>False</td>\n",
       "      <td>False</td>\n",
       "      <td>False</td>\n",
       "      <td>False</td>\n",
       "      <td>False</td>\n",
       "      <td>False</td>\n",
       "      <td>False</td>\n",
       "      <td>True</td>\n",
       "      <td>False</td>\n",
       "    </tr>\n",
       "    <tr>\n",
       "      <th>8122</th>\n",
       "      <td>4.75</td>\n",
       "      <td>8.00</td>\n",
       "      <td>22.54</td>\n",
       "      <td>6</td>\n",
       "      <td>False</td>\n",
       "      <td>False</td>\n",
       "      <td>False</td>\n",
       "      <td>False</td>\n",
       "      <td>False</td>\n",
       "      <td>False</td>\n",
       "      <td>...</td>\n",
       "      <td>False</td>\n",
       "      <td>False</td>\n",
       "      <td>False</td>\n",
       "      <td>False</td>\n",
       "      <td>False</td>\n",
       "      <td>False</td>\n",
       "      <td>False</td>\n",
       "      <td>True</td>\n",
       "      <td>False</td>\n",
       "      <td>False</td>\n",
       "    </tr>\n",
       "    <tr>\n",
       "      <th>8123</th>\n",
       "      <td>3.20</td>\n",
       "      <td>11.00</td>\n",
       "      <td>18.50</td>\n",
       "      <td>7</td>\n",
       "      <td>False</td>\n",
       "      <td>False</td>\n",
       "      <td>False</td>\n",
       "      <td>False</td>\n",
       "      <td>False</td>\n",
       "      <td>False</td>\n",
       "      <td>...</td>\n",
       "      <td>False</td>\n",
       "      <td>False</td>\n",
       "      <td>False</td>\n",
       "      <td>False</td>\n",
       "      <td>False</td>\n",
       "      <td>False</td>\n",
       "      <td>False</td>\n",
       "      <td>False</td>\n",
       "      <td>True</td>\n",
       "      <td>False</td>\n",
       "    </tr>\n",
       "    <tr>\n",
       "      <th>8124</th>\n",
       "      <td>1.35</td>\n",
       "      <td>11.90</td>\n",
       "      <td>16.80</td>\n",
       "      <td>13</td>\n",
       "      <td>False</td>\n",
       "      <td>False</td>\n",
       "      <td>False</td>\n",
       "      <td>False</td>\n",
       "      <td>False</td>\n",
       "      <td>False</td>\n",
       "      <td>...</td>\n",
       "      <td>False</td>\n",
       "      <td>False</td>\n",
       "      <td>False</td>\n",
       "      <td>False</td>\n",
       "      <td>False</td>\n",
       "      <td>False</td>\n",
       "      <td>False</td>\n",
       "      <td>True</td>\n",
       "      <td>False</td>\n",
       "      <td>False</td>\n",
       "    </tr>\n",
       "    <tr>\n",
       "      <th>8125</th>\n",
       "      <td>3.82</td>\n",
       "      <td>12.00</td>\n",
       "      <td>19.30</td>\n",
       "      <td>11</td>\n",
       "      <td>False</td>\n",
       "      <td>False</td>\n",
       "      <td>False</td>\n",
       "      <td>False</td>\n",
       "      <td>False</td>\n",
       "      <td>False</td>\n",
       "      <td>...</td>\n",
       "      <td>False</td>\n",
       "      <td>False</td>\n",
       "      <td>False</td>\n",
       "      <td>False</td>\n",
       "      <td>False</td>\n",
       "      <td>False</td>\n",
       "      <td>False</td>\n",
       "      <td>True</td>\n",
       "      <td>False</td>\n",
       "      <td>False</td>\n",
       "    </tr>\n",
       "  </tbody>\n",
       "</table>\n",
       "<p>6893 rows × 39 columns</p>\n",
       "</div>"
      ],
      "text/plain": [
       "      selling_price  km_driven  mileage  car_age  ambassador  ashok   audi  \\\n",
       "0              4.50      14.55    23.40        6       False  False  False   \n",
       "1              3.70      12.00    21.14        6       False  False  False   \n",
       "2              1.58      14.00    17.70       14       False  False  False   \n",
       "3              2.25      12.70    23.00       10       False  False  False   \n",
       "4              1.30      12.00    16.10       13       False  False  False   \n",
       "...             ...        ...      ...      ...         ...    ...    ...   \n",
       "8121           2.60       5.00    18.90        7       False  False  False   \n",
       "8122           4.75       8.00    22.54        6       False  False  False   \n",
       "8123           3.20      11.00    18.50        7       False  False  False   \n",
       "8124           1.35      11.90    16.80       13       False  False  False   \n",
       "8125           3.82      12.00    19.30       11       False  False  False   \n",
       "\n",
       "        bmw  chevrolet  daewoo  ...  renault  skoda   tata  toyota  \\\n",
       "0     False      False   False  ...    False  False  False   False   \n",
       "1     False      False   False  ...    False   True  False   False   \n",
       "2     False      False   False  ...    False  False  False   False   \n",
       "3     False      False   False  ...    False  False  False   False   \n",
       "4     False      False   False  ...    False  False  False   False   \n",
       "...     ...        ...     ...  ...      ...    ...    ...     ...   \n",
       "8121  False      False   False  ...    False  False  False   False   \n",
       "8122  False      False   False  ...    False  False  False   False   \n",
       "8123  False      False   False  ...    False  False  False   False   \n",
       "8124  False      False   False  ...    False  False  False   False   \n",
       "8125  False      False   False  ...    False  False  False   False   \n",
       "\n",
       "      volkswagen  volvo    CNG  Diesel  Petrol  Automatic  \n",
       "0          False  False  False    True   False      False  \n",
       "1          False  False  False    True   False      False  \n",
       "2          False  False  False   False    True      False  \n",
       "3          False  False  False    True   False      False  \n",
       "4          False  False  False   False    True      False  \n",
       "...          ...    ...    ...     ...     ...        ...  \n",
       "8121       False  False  False   False    True      False  \n",
       "8122       False  False  False    True   False      False  \n",
       "8123       False  False  False   False    True      False  \n",
       "8124       False  False  False    True   False      False  \n",
       "8125       False  False  False    True   False      False  \n",
       "\n",
       "[6893 rows x 39 columns]"
      ]
     },
     "execution_count": 41,
     "metadata": {},
     "output_type": "execute_result"
    }
   ],
   "source": [
    "df9"
   ]
  },
  {
   "cell_type": "code",
   "execution_count": 42,
   "id": "a01d9627-1fc1-4868-a508-bed7159993e2",
   "metadata": {},
   "outputs": [
    {
     "data": {
      "text/html": [
       "<div>\n",
       "<style scoped>\n",
       "    .dataframe tbody tr th:only-of-type {\n",
       "        vertical-align: middle;\n",
       "    }\n",
       "\n",
       "    .dataframe tbody tr th {\n",
       "        vertical-align: top;\n",
       "    }\n",
       "\n",
       "    .dataframe thead th {\n",
       "        text-align: right;\n",
       "    }\n",
       "</style>\n",
       "<table border=\"1\" class=\"dataframe\">\n",
       "  <thead>\n",
       "    <tr style=\"text-align: right;\">\n",
       "      <th></th>\n",
       "      <th>selling_price</th>\n",
       "      <th>km_driven</th>\n",
       "      <th>mileage</th>\n",
       "      <th>car_age</th>\n",
       "    </tr>\n",
       "  </thead>\n",
       "  <tbody>\n",
       "    <tr>\n",
       "      <th>count</th>\n",
       "      <td>6893.000000</td>\n",
       "      <td>6893.000000</td>\n",
       "      <td>6893.000000</td>\n",
       "      <td>6893.000000</td>\n",
       "    </tr>\n",
       "    <tr>\n",
       "      <th>mean</th>\n",
       "      <td>5.143953</td>\n",
       "      <td>7.356928</td>\n",
       "      <td>19.513036</td>\n",
       "      <td>6.580009</td>\n",
       "    </tr>\n",
       "    <tr>\n",
       "      <th>std</th>\n",
       "      <td>5.049795</td>\n",
       "      <td>4.856093</td>\n",
       "      <td>3.888909</td>\n",
       "      <td>4.066609</td>\n",
       "    </tr>\n",
       "    <tr>\n",
       "      <th>min</th>\n",
       "      <td>0.299990</td>\n",
       "      <td>0.100000</td>\n",
       "      <td>9.000000</td>\n",
       "      <td>0.000000</td>\n",
       "    </tr>\n",
       "    <tr>\n",
       "      <th>25%</th>\n",
       "      <td>2.500000</td>\n",
       "      <td>4.000000</td>\n",
       "      <td>17.000000</td>\n",
       "      <td>3.000000</td>\n",
       "    </tr>\n",
       "    <tr>\n",
       "      <th>50%</th>\n",
       "      <td>4.000000</td>\n",
       "      <td>7.000000</td>\n",
       "      <td>19.511043</td>\n",
       "      <td>6.000000</td>\n",
       "    </tr>\n",
       "    <tr>\n",
       "      <th>75%</th>\n",
       "      <td>6.310000</td>\n",
       "      <td>10.000000</td>\n",
       "      <td>22.320000</td>\n",
       "      <td>9.000000</td>\n",
       "    </tr>\n",
       "    <tr>\n",
       "      <th>max</th>\n",
       "      <td>100.000000</td>\n",
       "      <td>57.741400</td>\n",
       "      <td>42.000000</td>\n",
       "      <td>37.000000</td>\n",
       "    </tr>\n",
       "  </tbody>\n",
       "</table>\n",
       "</div>"
      ],
      "text/plain": [
       "       selling_price    km_driven      mileage      car_age\n",
       "count    6893.000000  6893.000000  6893.000000  6893.000000\n",
       "mean        5.143953     7.356928    19.513036     6.580009\n",
       "std         5.049795     4.856093     3.888909     4.066609\n",
       "min         0.299990     0.100000     9.000000     0.000000\n",
       "25%         2.500000     4.000000    17.000000     3.000000\n",
       "50%         4.000000     7.000000    19.511043     6.000000\n",
       "75%         6.310000    10.000000    22.320000     9.000000\n",
       "max       100.000000    57.741400    42.000000    37.000000"
      ]
     },
     "execution_count": 42,
     "metadata": {},
     "output_type": "execute_result"
    }
   ],
   "source": [
    "df9.describe()"
   ]
  },
  {
   "cell_type": "code",
   "execution_count": 43,
   "id": "4efeaf1c-a290-4031-a04e-aa1b684db891",
   "metadata": {},
   "outputs": [],
   "source": [
    "x = df9.drop(\"selling_price\", axis=\"columns\")\n",
    "y = df9[\"selling_price\"]"
   ]
  },
  {
   "cell_type": "code",
   "execution_count": 60,
   "id": "6acbe498-da97-45e3-8062-05bbce9e2c82",
   "metadata": {},
   "outputs": [],
   "source": [
    "x_train, x_test, y_train, y_test = train_test_split(x,y,test_size=0.2,random_state=0)"
   ]
  },
  {
   "cell_type": "code",
   "execution_count": 61,
   "id": "292ec533-0b3e-46b5-9be3-c0ae3eccb6d3",
   "metadata": {},
   "outputs": [
    {
     "data": {
      "text/plain": [
       "0.6667980257875719"
      ]
     },
     "execution_count": 61,
     "metadata": {},
     "output_type": "execute_result"
    }
   ],
   "source": [
    "lr = LinearRegression()\n",
    "lr.fit(x_train,y_train)\n",
    "lr.score(x_test, y_test)"
   ]
  },
  {
   "cell_type": "code",
   "execution_count": null,
   "id": "12539e50-20f0-4830-bdc7-389219db93b0",
   "metadata": {},
   "outputs": [],
   "source": []
  },
  {
   "cell_type": "code",
   "execution_count": 62,
   "id": "b7408266-c4f4-4787-9ff9-3f74b431aadc",
   "metadata": {},
   "outputs": [],
   "source": [
    "from sklearn.ensemble import RandomForestRegressor"
   ]
  },
  {
   "cell_type": "code",
   "execution_count": 63,
   "id": "6be68711-ad97-42d0-8097-671cd3c3305e",
   "metadata": {},
   "outputs": [
    {
     "name": "stdout",
     "output_type": "stream",
     "text": [
      "0.8660646173671082\n"
     ]
    }
   ],
   "source": [
    "\n",
    "rf = RandomForestRegressor()\n",
    "rf.fit(x_train, y_train)\n",
    "print(rf.score(x_test, y_test))"
   ]
  },
  {
   "cell_type": "code",
   "execution_count": 64,
   "id": "f5d5f1dc-38f5-4c15-8c1a-4dab9cd2f87f",
   "metadata": {},
   "outputs": [],
   "source": [
    "from sklearn.model_selection import ShuffleSplit, cross_val_score"
   ]
  },
  {
   "cell_type": "code",
   "execution_count": 65,
   "id": "8e817bb8-b750-43a0-8389-587e469d72ea",
   "metadata": {},
   "outputs": [
    {
     "data": {
      "text/plain": [
       "array([0.79020612, 0.85850467, 0.85808507, 0.59875372, 0.73454723])"
      ]
     },
     "execution_count": 65,
     "metadata": {},
     "output_type": "execute_result"
    }
   ],
   "source": [
    "cv= ShuffleSplit(n_splits=5, test_size=0.1, random_state= 0)\n",
    "cross_val_score(RandomForestRegressor(),x,y,cv=cv)"
   ]
  },
  {
   "cell_type": "code",
   "execution_count": 66,
   "id": "434980b3-96ab-4c2b-958b-542372b5106f",
   "metadata": {},
   "outputs": [],
   "source": [
    "default_year = df7['year'].mode()[0]\n",
    "default_km = df7['km_driven'].median()\n",
    "default_mileage = df7['mileage'].median()\n",
    "default_name = df7['name'].mode()[0]\n",
    "default_fuel = df7['fuel'].mode()[0]\n",
    "default_transmission = df7['transmission'].mode()[0]\n",
    "\n",
    "def predict_price(\n",
    "    year=default_year,                # Default to most common year or mode of 'year'\n",
    "    km=default_km,                 # Default to mode or median of 'km_driven'\n",
    "    mileage=default_mileage,             # Default to mode or median of 'mileage'\n",
    "    name=default_name,      # Default to most common name in 'name'\n",
    "    fuel=default_fuel,            # Default to mode of 'fuel'\n",
    "    transmission=default_transmission     # Default to mode of 'transmission'\n",
    "):\n",
    "    # Convert 'year' to 'car_age' (2025 - year)\n",
    "    car_age = 2025 - year\n",
    "    \n",
    "    input_data = np.zeros(len(x.columns))  # Create a zero array of feature size\n",
    "\n",
    "    # Handle 'name'\n",
    "    if name in x.columns:\n",
    "        name_loc = np.where(x.columns == name)[0][0]\n",
    "        input_data[name_loc] = 1\n",
    "    \n",
    "    # Handle 'fuel'\n",
    "    if fuel in x.columns:\n",
    "        fuel_loc = np.where(x.columns == fuel)[0][0]\n",
    "        input_data[fuel_loc] = 1\n",
    "    \n",
    "    # Handle 'transmission'\n",
    "    if transmission in x.columns:\n",
    "        transmission_loc = np.where(x.columns == transmission)[0][0]\n",
    "        input_data[transmission_loc] = 1\n",
    "\n",
    "    # Fill other numerical fields\n",
    "    input_data[2] = car_age\n",
    "    input_data[0] = km\n",
    "    input_data[1] = mileage\n",
    "\n",
    "    return rf.predict([input_data])[0]\n"
   ]
  },
  {
   "cell_type": "code",
   "execution_count": 67,
   "id": "ffd993ad-7c61-4f06-acbc-51632d4dc105",
   "metadata": {},
   "outputs": [
    {
     "name": "stderr",
     "output_type": "stream",
     "text": [
      "C:\\Users\\gkans\\AppData\\Local\\Programs\\Python\\Python313\\Lib\\site-packages\\sklearn\\base.py:493: UserWarning: X does not have valid feature names, but RandomForestRegressor was fitted with feature names\n",
      "  warnings.warn(\n"
     ]
    },
    {
     "data": {
      "text/plain": [
       "np.float64(3.797908333333333)"
      ]
     },
     "execution_count": 67,
     "metadata": {},
     "output_type": "execute_result"
    }
   ],
   "source": [
    "predict_price()"
   ]
  },
  {
   "cell_type": "code",
   "execution_count": 68,
   "id": "9f01e182-a378-417e-bc47-6affe4044ff7",
   "metadata": {},
   "outputs": [],
   "source": [
    "import pickle\n",
    "with open('car_price_predict_model.pickle', 'wb') as f:\n",
    "    pickle.dump(rf, f)"
   ]
  },
  {
   "cell_type": "code",
   "execution_count": 71,
   "id": "eaeda157-0e92-43bf-8190-411fd6dd7b46",
   "metadata": {},
   "outputs": [],
   "source": [
    "import json\n",
    "columns = {\n",
    "    \"data_columns\" : [col.lower() for col in x.columns]\n",
    "}\n",
    "with open(\"columns.json\",\"w\") as f:\n",
    "    f.write(json.dumps(columns))"
   ]
  },
  {
   "cell_type": "code",
   "execution_count": null,
   "id": "515882ba-cb7d-417c-a5d0-eb04fc8b3bc0",
   "metadata": {},
   "outputs": [],
   "source": []
  }
 ],
 "metadata": {
  "kernelspec": {
   "display_name": "Python 3 (ipykernel)",
   "language": "python",
   "name": "python3"
  },
  "language_info": {
   "codemirror_mode": {
    "name": "ipython",
    "version": 3
   },
   "file_extension": ".py",
   "mimetype": "text/x-python",
   "name": "python",
   "nbconvert_exporter": "python",
   "pygments_lexer": "ipython3",
   "version": "3.13.0"
  }
 },
 "nbformat": 4,
 "nbformat_minor": 5
}
